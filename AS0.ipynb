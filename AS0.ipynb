def selection_sort(arr):
    # YOUR CODE COMES HERE
    
    for i in range(len(arr)-1):
      min_idx=i
      for j in range(i+1, len(arr)):
        if arr[j]<arr[min_idx]:
          min_idx=j
      arr[i], arr[min_idx]=arr[min_idx], arr[i]

    return arr
    
import random
array = [random.randint(0, 20) for _ in range(20)]
print('array: ', array)

array_sorted = selection_sort(array)
print('sorted:', array_sorted)

print()
print('Q: Is the array sorted?')
print('A:', sorted(array) == array_sorted)


class Sorter:
    def __init__(self, method):
        self.method = method
        
    @staticmethod
    def of(method):
        return Sorter(method)
        
    def sort(self, arr):
        if self.method == 'selection_sort':
            return self.selection_sort(arr)
        
        elif self.method == 'insertion_sort':
            return self.insertion_sort(arr)
        
        elif self.method == 'merge_sort':
            return self.merge_sort(arr)
        
        else:
            raise ValueError('Unknown method: %s' % method)

    def selection_sort(self, arr):
        # YOUR CODE COMES HERE

        for i in range(len(arr)-1):
          min_idx=i
          for j in range(i+1, len(arr)):
            if arr[j]<arr[min_idx]:
              min_idx=j
          arr[i], arr[min_idx]=arr[min_idx], arr[i]

        return arr
    
    def insertion_sort(self, arr):
        # YOUR CODE COMES HERE
        for end in range(1, len(arr)):
          for i in range(end, 0, -1):
            if arr[i-1]>arr[i]:
              arr[i-1], arr[i]=arr[i], arr[i-1]

        return arr
    
    def merge_sort(self, arr):
        # YOUR CODE COMES HERE
        if len(arr)<=1:
          return arr
        mid = len(arr)//2
        low_arr = self.merge_sort(arr[:mid])
        high_arr = self.merge_sort(arr[mid:])
        merged_arr=[]
        l=h=0
        while l<len(low_arr) and h<len(high_arr):
          if low_arr[l]<high_arr[h]:
            merged_arr.append(low_arr[l])
            l+=1
          else:
            merged_arr.append(high_arr[h])
            h+=1
        merged_arr+=low_arr[l:]
        merged_arr+=high_arr[h:]
        arr=merged_arr

        return arr
array = [random.randint(0, 20) for _ in range(20)]

algorithms = ['selection_sort', 'insertion_sort', 'merge_sort']
for algorithm in algorithms:
    sorter = Sorter.of(algorithm)
    array_sorted = sorter.sort(array)
    print('%s sorted? %s' % (algorithm, sorted(array) == array_sorted))
